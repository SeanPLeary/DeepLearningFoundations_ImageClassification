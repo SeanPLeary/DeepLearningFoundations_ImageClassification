{
 "cells": [
  {
   "cell_type": "markdown",
   "metadata": {
    "collapsed": true,
    "deletable": true,
    "editable": true
   },
   "source": [
    "# Image Classification\n",
    "In this project, you'll classify images from the [CIFAR-10 dataset](https://www.cs.toronto.edu/~kriz/cifar.html).  The dataset consists of airplanes, dogs, cats, and other objects. You'll preprocess the images, then train a convolutional neural network on all the samples. The images need to be normalized and the labels need to be one-hot encoded.  You'll get to apply what you learned and build a convolutional, max pooling, dropout, and fully connected layers.  At the end, you'll get to see your neural network's predictions on the sample images.\n",
    "## Get the Data\n",
    "Run the following cell to download the [CIFAR-10 dataset for python](https://www.cs.toronto.edu/~kriz/cifar-10-python.tar.gz)."
   ]
  },
  {
   "cell_type": "code",
   "execution_count": 43,
   "metadata": {
    "collapsed": false,
    "deletable": true,
    "editable": true
   },
   "outputs": [
    {
     "name": "stdout",
     "output_type": "stream",
     "text": [
      "All files found!\n"
     ]
    }
   ],
   "source": [
    "\"\"\"\n",
    "DON'T MODIFY ANYTHING IN THIS CELL THAT IS BELOW THIS LINE\n",
    "\"\"\"\n",
    "from urllib.request import urlretrieve\n",
    "from os.path import isfile, isdir\n",
    "from tqdm import tqdm\n",
    "import problem_unittests as tests\n",
    "import tarfile\n",
    "\n",
    "cifar10_dataset_folder_path = 'cifar-10-batches-py'\n",
    "\n",
    "class DLProgress(tqdm):\n",
    "    last_block = 0\n",
    "\n",
    "    def hook(self, block_num=1, block_size=1, total_size=None):\n",
    "        self.total = total_size\n",
    "        self.update((block_num - self.last_block) * block_size)\n",
    "        self.last_block = block_num\n",
    "\n",
    "if not isfile('cifar-10-python.tar.gz'):\n",
    "    with DLProgress(unit='B', unit_scale=True, miniters=1, desc='CIFAR-10 Dataset') as pbar:\n",
    "        urlretrieve(\n",
    "            'https://www.cs.toronto.edu/~kriz/cifar-10-python.tar.gz',\n",
    "            'cifar-10-python.tar.gz',\n",
    "            pbar.hook)\n",
    "\n",
    "if not isdir(cifar10_dataset_folder_path):\n",
    "    with tarfile.open('cifar-10-python.tar.gz') as tar:\n",
    "        tar.extractall()\n",
    "        tar.close()\n",
    "\n",
    "\n",
    "tests.test_folder_path(cifar10_dataset_folder_path)"
   ]
  },
  {
   "cell_type": "markdown",
   "metadata": {
    "deletable": true,
    "editable": true
   },
   "source": [
    "## Explore the Data\n",
    "The dataset is broken into batches to prevent your machine from running out of memory.  The CIFAR-10 dataset consists of 5 batches, named `data_batch_1`, `data_batch_2`, etc.. Each batch contains the labels and images that are one of the following:\n",
    "* airplane\n",
    "* automobile\n",
    "* bird\n",
    "* cat\n",
    "* deer\n",
    "* dog\n",
    "* frog\n",
    "* horse\n",
    "* ship\n",
    "* truck\n",
    "\n",
    "Understanding a dataset is part of making predictions on the data.  Play around with the code cell below by changing the `batch_id` and `sample_id`. The `batch_id` is the id for a batch (1-5). The `sample_id` is the id for a image and label pair in the batch.\n",
    "\n",
    "Ask yourself \"What are all possible labels?\", \"What is the range of values for the image data?\", \"Are the labels in order or random?\".  Answers to questions like these will help you preprocess the data and end up with better predictions."
   ]
  },
  {
   "cell_type": "code",
   "execution_count": 44,
   "metadata": {
    "collapsed": false,
    "deletable": true,
    "editable": true
   },
   "outputs": [
    {
     "name": "stdout",
     "output_type": "stream",
     "text": [
      "\n",
      "Stats of batch 2:\n",
      "Samples: 10000\n",
      "Label Counts: {0: 984, 1: 1007, 2: 1010, 3: 995, 4: 1010, 5: 988, 6: 1008, 7: 1026, 8: 987, 9: 985}\n",
      "First 20 Labels: [1, 6, 6, 8, 8, 3, 4, 6, 0, 6, 0, 3, 6, 6, 5, 4, 8, 3, 2, 6]\n",
      "\n",
      "Example of Image 3:\n",
      "Image - Min Value: 4 Max Value: 255\n",
      "Image - Shape: (32, 32, 3)\n",
      "Label - Label Id: 8 Name: ship\n"
     ]
    },
    {
     "data": {
      "image/png": "[encoded data removed]",
      "text/plain": [
       "<matplotlib.figure.Figure at 0x7f228c8e87b8>"
      ]
     },
     "metadata": {
      "image/png": {
       "height": 250,
       "width": 253
      }
     },
     "output_type": "display_data"
    }
   ],
   "source": [
    "%matplotlib inline\n",
    "%config InlineBackend.figure_format = 'retina'\n",
    "\n",
    "import helper\n",
    "import numpy as np\n",
    "\n",
    "# Explore the dataset\n",
    "batch_id = 2\n",
    "sample_id = 3\n",
    "helper.display_stats(cifar10_dataset_folder_path, batch_id, sample_id)"
   ]
  },
  {
   "cell_type": "markdown",
   "metadata": {
    "deletable": true,
    "editable": true
   },
   "source": [
    "## Implement Preprocess Functions\n",
    "### Normalize\n",
    "In the cell below, implement the `normalize` function to take in image data, `x`, and return it as a normalized Numpy array. The values should be in the range of 0 to 1, inclusive.  The return object should be the same shape as `x`."
   ]
  },
  {
   "cell_type": "code",
   "execution_count": 45,
   "metadata": {
    "collapsed": false,
    "deletable": true,
    "editable": true
   },
   "outputs": [
    {
     "name": "stdout",
     "output_type": "stream",
     "text": [
      "Tests Passed\n"
     ]
    }
   ],
   "source": [
    "def normalize(x):\n",
    "    \"\"\"\n",
    "    Normalize a list of sample image data in the range of 0 to 1\n",
    "    : x: List of image data.  The image shape is (32, 32, 3)\n",
    "    : return: Numpy array of normalize data\n",
    "    \"\"\"\n",
    "    # TODO: Implement Function\n",
    "    # from week 5 Intro to TensorFlow module 27:\n",
    "    # Normalized output range [a,b]\n",
    "    a = 0\n",
    "    b = 1\n",
    "    # Input range [grayscale_min,grayscale_max]\n",
    "    grayscale_min = 0\n",
    "    grayscale_max = 255\n",
    "    \n",
    "    return a + (((x-grayscale_min)*(b-a))/(grayscale_max-grayscale_min)) # reduces to x/255 for this case\n",
    "\n",
    "\n",
    "\"\"\"\n",
    "DON'T MODIFY ANYTHING IN THIS CELL THAT IS BELOW THIS LINE\n",
    "\"\"\"\n",
    "tests.test_normalize(normalize)"
   ]
  },
  {
   "cell_type": "markdown",
   "metadata": {
    "deletable": true,
    "editable": true
   },
   "source": [
    "### One-hot encode\n",
    "Just like the previous code cell, you'll be implementing a function for preprocessing.  This time, you'll implement the `one_hot_encode` function. The input, `x`, are a list of labels.  Implement the function to return the list of labels as One-Hot encoded Numpy array.  The possible values for labels are 0 to 9. The one-hot encoding function should return the same encoding for each value between each call to `one_hot_encode`.  Make sure to save the map of encodings outside the function.\n",
    "\n",
    "Hint: Don't reinvent the wheel."
   ]
  },
  {
   "cell_type": "code",
   "execution_count": 46,
   "metadata": {
    "collapsed": false,
    "deletable": true,
    "editable": true
   },
   "outputs": [
    {
     "name": "stdout",
     "output_type": "stream",
     "text": [
      "Tests Passed\n"
     ]
    }
   ],
   "source": [
    "# Instantiate lb object and apply fit method on possible labels outside the function\n",
    "from sklearn import preprocessing\n",
    "lb = preprocessing.LabelBinarizer()\n",
    "num_labels = 10 \n",
    "lb.fit(range(num_labels)) # lb.fit[0,1,2,3,4,5,6,7,8,9]\n",
    "\n",
    "def one_hot_encode(x):\n",
    "    \"\"\"\n",
    "    One hot encode a list of sample labels. Return a one-hot encoded vector for each label.\n",
    "    : x: List of sample Labels\n",
    "    : return: Numpy array of one-hot encoded labels\n",
    "    \"\"\"\n",
    "    # TODO: Implement Function\n",
    "\n",
    "    return lb.transform(x)\n",
    "\n",
    "\n",
    "\"\"\"\n",
    "DON'T MODIFY ANYTHING IN THIS CELL THAT IS BELOW THIS LINE\n",
    "\"\"\"\n",
    "tests.test_one_hot_encode(one_hot_encode)"
   ]
  },
  {
   "cell_type": "markdown",
   "metadata": {
    "deletable": true,
    "editable": true
   },
   "source": [
    "### Randomize Data\n",
    "As you saw from exploring the data above, the order of the samples are randomized.  It doesn't hurt to randomize it again, but you don't need to for this dataset."
   ]
  },
  {
   "cell_type": "markdown",
   "metadata": {
    "deletable": true,
    "editable": true
   },
   "source": [
    "## Preprocess all the data and save it\n",
    "Running the code cell below will preprocess all the CIFAR-10 data and save it to file. The code below also uses 10% of the training data for validation."
   ]
  },
  {
   "cell_type": "code",
   "execution_count": 47,
   "metadata": {
    "collapsed": false,
    "deletable": true,
    "editable": true
   },
   "outputs": [],
   "source": [
    "\"\"\"\n",
    "DON'T MODIFY ANYTHING IN THIS CELL\n",
    "\"\"\"\n",
    "# Preprocess Training, Validation, and Testing Data\n",
    "helper.preprocess_and_save_data(cifar10_dataset_folder_path, normalize, one_hot_encode)"
   ]
  },
  {
   "cell_type": "markdown",
   "metadata": {
    "deletable": true,
    "editable": true
   },
   "source": [
    "# Check Point\n",
    "This is your first checkpoint.  If you ever decide to come back to this notebook or have to restart the notebook, you can start from here.  The preprocessed data has been saved to disk."
   ]
  },
  {
   "cell_type": "code",
   "execution_count": 48,
   "metadata": {
    "collapsed": true,
    "deletable": true,
    "editable": true
   },
   "outputs": [],
   "source": [
    "\"\"\"\n",
    "DON'T MODIFY ANYTHING IN THIS CELL\n",
    "\"\"\"\n",
    "import pickle\n",
    "import problem_unittests as tests\n",
    "import helper\n",
    "\n",
    "# Load the Preprocessed Validation data\n",
    "valid_features, valid_labels = pickle.load(open('preprocess_validation.p', mode='rb'))"
   ]
  },
  {
   "cell_type": "markdown",
   "metadata": {
    "deletable": true,
    "editable": true
   },
   "source": [
    "## Build the network\n",
    "For the neural network, you'll build each layer into a function.  Most of the code you've seen has been outside of functions. To test your code more thoroughly, we require that you put each layer in a function.  This allows us to give you better feedback and test for simple mistakes using our unittests before you submit your project.\n",
    "\n",
    ">**Note:** If you're finding it hard to dedicate enough time for this course each week, we've provided a small shortcut to this part of the project. In the next couple of problems, you'll have the option to use classes from the [TensorFlow Layers](https://www.tensorflow.org/api_docs/python/tf/layers) or [TensorFlow Layers (contrib)](https://www.tensorflow.org/api_guides/python/contrib.layers) packages to build each layer, except the layers you build in the \"Convolutional and Max Pooling Layer\" section.  TF Layers is similar to Keras's and TFLearn's abstraction to layers, so it's easy to pickup.\n",
    "\n",
    ">However, if you would like to get the most out of this course, try to solve all the problems _without_ using anything from the TF Layers packages. You **can** still use classes from other packages that happen to have the same name as ones you find in TF Layers! For example, instead of using the TF Layers version of the `conv2d` class, [tf.layers.conv2d](https://www.tensorflow.org/api_docs/python/tf/layers/conv2d), you would want to use the TF Neural Network version of `conv2d`, [tf.nn.conv2d](https://www.tensorflow.org/api_docs/python/tf/nn/conv2d). \n",
    "\n",
    "Let's begin!\n",
    "\n",
    "### Input\n",
    "The neural network needs to read the image data, one-hot encoded labels, and dropout keep probability. Implement the following functions\n",
    "* Implement `neural_net_image_input`\n",
    " * Return a [TF Placeholder](https://www.tensorflow.org/api_docs/python/tf/placeholder)\n",
    " * Set the shape using `image_shape` with batch size set to `None`.\n",
    " * Name the TensorFlow placeholder \"x\" using the TensorFlow `name` parameter in the [TF Placeholder](https://www.tensorflow.org/api_docs/python/tf/placeholder).\n",
    "* Implement `neural_net_label_input`\n",
    " * Return a [TF Placeholder](https://www.tensorflow.org/api_docs/python/tf/placeholder)\n",
    " * Set the shape using `n_classes` with batch size set to `None`.\n",
    " * Name the TensorFlow placeholder \"y\" using the TensorFlow `name` parameter in the [TF Placeholder](https://www.tensorflow.org/api_docs/python/tf/placeholder).\n",
    "* Implement `neural_net_keep_prob_input`\n",
    " * Return a [TF Placeholder](https://www.tensorflow.org/api_docs/python/tf/placeholder) for dropout keep probability.\n",
    " * Name the TensorFlow placeholder \"keep_prob\" using the TensorFlow `name` parameter in the [TF Placeholder](https://www.tensorflow.org/api_docs/python/tf/placeholder).\n",
    "\n",
    "These names will be used at the end of the project to load your saved model.\n",
    "\n",
    "Note: `None` for shapes in TensorFlow allow for a dynamic size."
   ]
  },
  {
   "cell_type": "code",
   "execution_count": 49,
   "metadata": {
    "collapsed": false,
    "deletable": true,
    "editable": true
   },
   "outputs": [
    {
     "name": "stdout",
     "output_type": "stream",
     "text": [
      "Image Input Tests Passed.\n",
      "Label Input Tests Passed.\n",
      "Keep Prob Tests Passed.\n"
     ]
    }
   ],
   "source": [
    "import tensorflow as tf\n",
    "\n",
    "def neural_net_image_input(image_shape):\n",
    "    \"\"\"\n",
    "    Return a Tensor for a batch of image input\n",
    "    : image_shape: Shape of the images\n",
    "    : return: Tensor for image input.\n",
    "    \"\"\"\n",
    "    # TODO: Implement Function\n",
    "    # from week 6 Deep Neural Networks module 4 & week 6 Deep Neural Networks module 30\n",
    "    \n",
    "    # TF Graph input\n",
    "    (height,width,input_depth) = image_shape\n",
    "    \n",
    "    return tf.placeholder(tf.float32, [None, height, width, input_depth], name = 'x') \n",
    "\n",
    "\n",
    "def neural_net_label_input(n_classes):\n",
    "    \"\"\"\n",
    "    Return a Tensor for a batch of label input\n",
    "    : n_classes: Number of classes\n",
    "    : return: Tensor for label input.\n",
    "    \"\"\"\n",
    "    # TODO: Implement Function\n",
    "     # TF Graph input\n",
    "    return tf.placeholder(tf.float32, [None, n_classes], name = 'y')\n",
    "\n",
    "\n",
    "def neural_net_keep_prob_input():\n",
    "    \"\"\"\n",
    "    Return a Tensor for keep probability\n",
    "    : return: Tensor for keep probability.\n",
    "    \"\"\"\n",
    "    # TODO: Implement Function\n",
    "    return tf.placeholder(tf.float32, name = 'keep_prob')\n",
    "\n",
    "\n",
    "\"\"\"\n",
    "DON'T MODIFY ANYTHING IN THIS CELL THAT IS BELOW THIS LINE\n",
    "\"\"\"\n",
    "tf.reset_default_graph()\n",
    "tests.test_nn_image_inputs(neural_net_image_input)\n",
    "tests.test_nn_label_inputs(neural_net_label_input)\n",
    "tests.test_nn_keep_prob_inputs(neural_net_keep_prob_input)"
   ]
  },
  {
   "cell_type": "markdown",
   "metadata": {
    "deletable": true,
    "editable": true
   },
   "source": [
    "### Convolution and Max Pooling Layer\n",
    "Convolution layers have a lot of success with images. For this code cell, you should implement the function `conv2d_maxpool` to apply convolution then max pooling:\n",
    "* Create the weight and bias using `conv_ksize`, `conv_num_outputs` and the shape of `x_tensor`.\n",
    "* Apply a convolution to `x_tensor` using weight and `conv_strides`.\n",
    " * We recommend you use same padding, but you're welcome to use any padding.\n",
    "* Add bias\n",
    "* Add a nonlinear activation to the convolution.\n",
    "* Apply Max Pooling using `pool_ksize` and `pool_strides`.\n",
    " * We recommend you use same padding, but you're welcome to use any padding.\n",
    "\n",
    "**Note:** You **can't** use [TensorFlow Layers](https://www.tensorflow.org/api_docs/python/tf/layers) or [TensorFlow Layers (contrib)](https://www.tensorflow.org/api_guides/python/contrib.layers) for **this** layer, but you can still use TensorFlow's [Neural Network](https://www.tensorflow.org/api_docs/python/tf/nn) package. You may still use the shortcut option for all the **other** layers."
   ]
  },
  {
   "cell_type": "code",
   "execution_count": 249,
   "metadata": {
    "collapsed": false,
    "deletable": true,
    "editable": true
   },
   "outputs": [
    {
     "name": "stdout",
     "output_type": "stream",
     "text": [
      "Tests Passed\n"
     ]
    }
   ],
   "source": [
    "def conv2d_maxpool(x_tensor, conv_num_outputs, conv_ksize, conv_strides, pool_ksize, pool_strides):\n",
    "    \"\"\"\n",
    "    Apply convolution then max pooling to x_tensor\n",
    "    :param x_tensor: TensorFlow Tensor\n",
    "    :param conv_num_outputs: Number of outputs for the convolutional layer\n",
    "    :param conv_ksize: kernal size 2-D Tuple for the convolutional layer\n",
    "    :param conv_strides: Stride 2-D Tuple for convolution\n",
    "    :param pool_ksize: kernal size 2-D Tuple for pool\n",
    "    :param pool_strides: Stride 2-D Tuple for pool\n",
    "    : return: A tensor that represents convolution and max pooling of x_tensor\n",
    "    \"\"\"\n",
    "    # TODO: Implement Function\n",
    "    \n",
    "    # Filter (weights and bias)\n",
    "    # The shape of the filter weight is (filter_height, filter_width, input_depth, output_depth)\n",
    "    # The shape of the filter bias is (output_depth)\n",
    "    \n",
    "    (conv_kernal_height, conv_kernal_width) = conv_ksize\n",
    "    input_depth = x_tensor.shape[3].value\n",
    "    output_depth = conv_num_outputs\n",
    "    Weights = tf.Variable(tf.random_normal([conv_kernal_height, conv_kernal_width, input_depth, output_depth],stddev=0.01))\n",
    "    bias = tf.Variable(tf.zeros(output_depth))\n",
    "    \n",
    "    \n",
    "    (stride_height,stride_width) = conv_strides\n",
    "    \n",
    "    conv_layer = tf.nn.conv2d(x_tensor, Weights, strides=[1, stride_height, stride_width, 1], padding='SAME')\n",
    "    conv_layer = tf.nn.bias_add(conv_layer, bias)\n",
    "    conv_layer = tf.nn.relu(conv_layer)\n",
    "    \n",
    "    (pool_stride_height,pool_stride_width) = pool_strides\n",
    "    (pool_kernal_height,pool_kernal_width) = pool_ksize\n",
    "    \n",
    "    conv_layer = tf.nn.max_pool(conv_layer, \n",
    "                              ksize=[1, pool_kernal_height, pool_kernal_width, 1],\n",
    "                              strides=[1, pool_stride_height, pool_stride_width, 1],\n",
    "                              padding='SAME')\n",
    "\n",
    "    return  conv_layer\n",
    "\n",
    "\n",
    "\"\"\"\n",
    "DON'T MODIFY ANYTHING IN THIS CELL THAT IS BELOW THIS LINE\n",
    "\"\"\"\n",
    "tests.test_con_pool(conv2d_maxpool)"
   ]
  },
  {
   "cell_type": "markdown",
   "metadata": {
    "deletable": true,
    "editable": true
   },
   "source": [
    "### Flatten Layer\n",
    "Implement the `flatten` function to change the dimension of `x_tensor` from a 4-D tensor to a 2-D tensor.  The output should be the shape (*Batch Size*, *Flattened Image Size*). Shortcut option: you can use classes from the [TensorFlow Layers](https://www.tensorflow.org/api_docs/python/tf/layers) or [TensorFlow Layers (contrib)](https://www.tensorflow.org/api_guides/python/contrib.layers) packages for this layer. For more of a challenge, only use other TensorFlow packages."
   ]
  },
  {
   "cell_type": "code",
   "execution_count": 250,
   "metadata": {
    "collapsed": false,
    "deletable": true,
    "editable": true
   },
   "outputs": [
    {
     "name": "stdout",
     "output_type": "stream",
     "text": [
      "Tests Passed\n"
     ]
    }
   ],
   "source": [
    "def flatten(x_tensor):\n",
    "    \"\"\"\n",
    "    Flatten x_tensor to (Batch Size, Flattened Image Size)\n",
    "    : x_tensor: A tensor of size (Batch Size, ...), where ... are the image dimensions.\n",
    "    : return: A tensor of size (Batch Size, Flattened Image Size).\n",
    "    \"\"\"\n",
    "    # TODO: Implement Function\n",
    "    # see https://www.tensorflow.org/api_docs/python/tf/contrib/layers/flatten\n",
    "    \n",
    "    return tf.contrib.layers.flatten(x_tensor)\n",
    "\n",
    "\n",
    "\"\"\"\n",
    "DON'T MODIFY ANYTHING IN THIS CELL THAT IS BELOW THIS LINE\n",
    "\"\"\"\n",
    "tests.test_flatten(flatten)"
   ]
  },
  {
   "cell_type": "markdown",
   "metadata": {
    "deletable": true,
    "editable": true
   },
   "source": [
    "### Fully-Connected Layer\n",
    "Implement the `fully_conn` function to apply a fully connected layer to `x_tensor` with the shape (*Batch Size*, *num_outputs*). Shortcut option: you can use classes from the [TensorFlow Layers](https://www.tensorflow.org/api_docs/python/tf/layers) or [TensorFlow Layers (contrib)](https://www.tensorflow.org/api_guides/python/contrib.layers) packages for this layer. For more of a challenge, only use other TensorFlow packages."
   ]
  },
  {
   "cell_type": "code",
   "execution_count": 251,
   "metadata": {
    "collapsed": false,
    "deletable": true,
    "editable": true
   },
   "outputs": [
    {
     "name": "stdout",
     "output_type": "stream",
     "text": [
      "Tests Passed\n"
     ]
    }
   ],
   "source": [
    "def fully_conn(x_tensor, num_outputs):\n",
    "    \"\"\"\n",
    "    Apply a fully connected layer to x_tensor using weight and bias\n",
    "    : x_tensor: A 2-D tensor where the first dimension is batch size.\n",
    "    : num_outputs: The number of output that the new tensor should be.\n",
    "    : return: A 2-D tensor where the second dimension is num_outputs.\n",
    "    \"\"\"\n",
    "    # TODO: Implement Function\n",
    "    \n",
    "    # https://www.tensorflow.org/api_docs/python/tf/contrib/layers/fully_connected\n",
    "    \n",
    "    return tf.contrib.layers.fully_connected(x_tensor, num_outputs)\n",
    "\n",
    "\n",
    "\"\"\"\n",
    "DON'T MODIFY ANYTHING IN THIS CELL THAT IS BELOW THIS LINE\n",
    "\"\"\"\n",
    "tests.test_fully_conn(fully_conn)"
   ]
  },
  {
   "cell_type": "markdown",
   "metadata": {
    "deletable": true,
    "editable": true
   },
   "source": [
    "### Output Layer\n",
    "Implement the `output` function to apply a fully connected layer to `x_tensor` with the shape (*Batch Size*, *num_outputs*). Shortcut option: you can use classes from the [TensorFlow Layers](https://www.tensorflow.org/api_docs/python/tf/layers) or [TensorFlow Layers (contrib)](https://www.tensorflow.org/api_guides/python/contrib.layers) packages for this layer. For more of a challenge, only use other TensorFlow packages.\n",
    "\n",
    "**Note:** Activation, softmax, or cross entropy should **not** be applied to this."
   ]
  },
  {
   "cell_type": "code",
   "execution_count": 252,
   "metadata": {
    "collapsed": false,
    "deletable": true,
    "editable": true
   },
   "outputs": [
    {
     "name": "stdout",
     "output_type": "stream",
     "text": [
      "Tests Passed\n"
     ]
    }
   ],
   "source": [
    "def output(x_tensor, num_outputs):\n",
    "    \"\"\"\n",
    "    Apply a output layer to x_tensor using weight and bias\n",
    "    : x_tensor: A 2-D tensor where the first dimension is batch size.\n",
    "    : num_outputs: The number of output that the new tensor should be.\n",
    "    : return: A 2-D tensor where the second dimension is num_outputs.\n",
    "    \"\"\"\n",
    "    # TODO: Implement Function\n",
    "    \n",
    "    # https://www.tensorflow.org/api_docs/python/tf/layers/dense\n",
    "    \n",
    "    return tf.layers.dense(inputs=x_tensor, units=num_outputs, activation=None)\n",
    "\n",
    "\n",
    "\"\"\"\n",
    "DON'T MODIFY ANYTHING IN THIS CELL THAT IS BELOW THIS LINE\n",
    "\"\"\"\n",
    "tests.test_output(output)"
   ]
  },
  {
   "cell_type": "markdown",
   "metadata": {
    "deletable": true,
    "editable": true
   },
   "source": [
    "### Create Convolutional Model\n",
    "Implement the function `conv_net` to create a convolutional neural network model. The function takes in a batch of images, `x`, and outputs logits.  Use the layers you created above to create this model:\n",
    "\n",
    "* Apply 1, 2, or 3 Convolution and Max Pool layers\n",
    "* Apply a Flatten Layer\n",
    "* Apply 1, 2, or 3 Fully Connected Layers\n",
    "* Apply an Output Layer\n",
    "* Return the output\n",
    "* Apply [TensorFlow's Dropout](https://www.tensorflow.org/api_docs/python/tf/nn/dropout) to one or more layers in the model using `keep_prob`. "
   ]
  },
  {
   "cell_type": "code",
   "execution_count": 253,
   "metadata": {
    "collapsed": false,
    "deletable": true,
    "editable": true
   },
   "outputs": [
    {
     "name": "stdout",
     "output_type": "stream",
     "text": [
      "Neural Network Built!\n"
     ]
    }
   ],
   "source": [
    "def conv_net(x, keep_prob):\n",
    "    \"\"\"\n",
    "    Create a convolutional neural network model\n",
    "    : x: Placeholder tensor that holds image data.\n",
    "    : keep_prob: Placeholder tensor that hold dropout keep probability.\n",
    "    : return: Tensor that represents logits\n",
    "    \"\"\"\n",
    "    # TODO: Apply 1, 2, or 3 Convolution and Max Pool layers\n",
    "    #    Play around with different number of outputs, kernel size and stride\n",
    "    # Function Definition from Above:\n",
    "    #    conv2d_maxpool(x_tensor, conv_num_outputs, conv_ksize, conv_strides, pool_ksize, pool_strides)\n",
    "    conv_num_outputs = 32\n",
    "    conv_ksize = (5,5)\n",
    "    conv_strides = (1,1)\n",
    "    pool_ksize = (4,4)\n",
    "    pool_strides = (2,2)\n",
    "    conv1 = conv2d_maxpool(x, conv_num_outputs, conv_ksize, conv_strides, pool_ksize, pool_strides)\n",
    "    conv2 = conv2d_maxpool(conv1, conv_num_outputs*1, conv_ksize, conv_strides, pool_ksize, pool_strides)\n",
    "    conv3 = conv2d_maxpool(conv2, conv_num_outputs*1, conv_ksize, conv_strides, pool_ksize, pool_strides)\n",
    "    tf.nn.dropout(conv3, keep_prob)\n",
    "\n",
    "    # TODO: Apply a Flatten Layer\n",
    "    # Function Definition from Above:\n",
    "    #   flatten(x_tensor)\n",
    "    flat1 = flatten(conv3)\n",
    "    \n",
    "\n",
    "    # TODO: Apply 1, 2, or 3 Fully Connected Layers\n",
    "    #    Play around with different number of outputs\n",
    "    # Function Definition from Above:\n",
    "    #   fully_conn(x_tensor, num_outputs)\n",
    "    num_outputs = 512\n",
    "    fc1 = fully_conn(flat1,num_outputs)\n",
    "    fc2 = fully_conn(fc1,num_outputs*2)\n",
    "    fc3 = fully_conn(fc2,num_outputs*3)\n",
    "    #tf.nn.dropout(fc1, keep_prob)\n",
    "    \n",
    "    # TODO: Apply an Output Layer\n",
    "    #    Set this to the number of classes\n",
    "    # Function Definition from Above:\n",
    "    #   output(x_tensor, num_outputs)\n",
    "    num_outputs = 10\n",
    "    logits = output(fc3,num_outputs)\n",
    "    \n",
    "    # TODO: return output\n",
    "    return logits\n",
    "\n",
    "\n",
    "\"\"\"\n",
    "DON'T MODIFY ANYTHING IN THIS CELL THAT IS BELOW THIS LINE\n",
    "\"\"\"\n",
    "\n",
    "##############################\n",
    "## Build the Neural Network ##\n",
    "##############################\n",
    "\n",
    "# Remove previous weights, bias, inputs, etc..\n",
    "tf.reset_default_graph()\n",
    "\n",
    "# Inputs\n",
    "x = neural_net_image_input((32, 32, 3))\n",
    "y = neural_net_label_input(10)\n",
    "keep_prob = neural_net_keep_prob_input()\n",
    "\n",
    "# Model\n",
    "logits = conv_net(x, keep_prob)\n",
    "\n",
    "# Name logits Tensor, so that is can be loaded from disk after training\n",
    "logits = tf.identity(logits, name='logits')\n",
    "\n",
    "# Loss and Optimizer\n",
    "cost = tf.reduce_mean(tf.nn.softmax_cross_entropy_with_logits(logits=logits, labels=y))\n",
    "optimizer = tf.train.AdamOptimizer().minimize(cost)\n",
    "\n",
    "# Accuracy\n",
    "correct_pred = tf.equal(tf.argmax(logits, 1), tf.argmax(y, 1))\n",
    "accuracy = tf.reduce_mean(tf.cast(correct_pred, tf.float32), name='accuracy')\n",
    "\n",
    "tests.test_conv_net(conv_net)"
   ]
  },
  {
   "cell_type": "markdown",
   "metadata": {
    "deletable": true,
    "editable": true
   },
   "source": [
    "## Train the Neural Network\n",
    "### Single Optimization\n",
    "Implement the function `train_neural_network` to do a single optimization.  The optimization should use `optimizer` to optimize in `session` with a `feed_dict` of the following:\n",
    "* `x` for image input\n",
    "* `y` for labels\n",
    "* `keep_prob` for keep probability for dropout\n",
    "\n",
    "This function will be called for each batch, so `tf.global_variables_initializer()` has already been called.\n",
    "\n",
    "Note: Nothing needs to be returned. This function is only optimizing the neural network."
   ]
  },
  {
   "cell_type": "code",
   "execution_count": 254,
   "metadata": {
    "collapsed": false,
    "deletable": true,
    "editable": true
   },
   "outputs": [
    {
     "name": "stdout",
     "output_type": "stream",
     "text": [
      "Tests Passed\n"
     ]
    }
   ],
   "source": [
    "def train_neural_network(session, optimizer, keep_probability, feature_batch, label_batch):\n",
    "    \"\"\"\n",
    "    Optimize the session on a batch of images and labels\n",
    "    : session: Current TensorFlow session\n",
    "    : optimizer: TensorFlow optimizer function\n",
    "    : keep_probability: keep probability\n",
    "    : feature_batch: Batch of Numpy image data\n",
    "    : label_batch: Batch of Numpy label data\n",
    "    \"\"\"\n",
    "    # TODO: Implement Function\n",
    "    session.run(optimizer,feed_dict={x: feature_batch, y: label_batch, keep_prob: keep_probability})\n",
    "\n",
    "\n",
    "\"\"\"\n",
    "DON'T MODIFY ANYTHING IN THIS CELL THAT IS BELOW THIS LINE\n",
    "\"\"\"\n",
    "tests.test_train_nn(train_neural_network)"
   ]
  },
  {
   "cell_type": "markdown",
   "metadata": {
    "deletable": true,
    "editable": true
   },
   "source": [
    "### Show Stats\n",
    "Implement the function `print_stats` to print loss and validation accuracy.  Use the global variables `valid_features` and `valid_labels` to calculate validation accuracy.  Use a keep probability of `1.0` to calculate the loss and validation accuracy."
   ]
  },
  {
   "cell_type": "code",
   "execution_count": 255,
   "metadata": {
    "collapsed": false,
    "deletable": true,
    "editable": true
   },
   "outputs": [],
   "source": [
    "def print_stats(session, feature_batch, label_batch, cost, accuracy):\n",
    "    \"\"\"\n",
    "    Print information about loss and validation accuracy\n",
    "    : session: Current TensorFlow session\n",
    "    : feature_batch: Batch of Numpy image data\n",
    "    : label_batch: Batch of Numpy label data\n",
    "    : cost: TensorFlow cost function\n",
    "    : accuracy: TensorFlow accuracy function\n",
    "    \"\"\"\n",
    "    # TODO: Implement Function\n",
    "    loss = session.run(cost, feed_dict={x: feature_batch, y: label_batch, keep_prob: 1.0})\n",
    "    validation_accuracy = session.run(accuracy, feed_dict={x: valid_features, y: valid_labels, keep_prob: 1.0})\n",
    "    print('loss = {} & validation_accuracy = {}'.format(loss, validation_accuracy))\n",
    "    "
   ]
  },
  {
   "cell_type": "markdown",
   "metadata": {
    "deletable": true,
    "editable": true
   },
   "source": [
    "### Hyperparameters\n",
    "Tune the following parameters:\n",
    "* Set `epochs` to the number of iterations until the network stops learning or start overfitting\n",
    "* Set `batch_size` to the highest number that your machine has memory for.  Most people set them to common sizes of memory:\n",
    " * 64\n",
    " * 128\n",
    " * 256\n",
    " * ...\n",
    "* Set `keep_probability` to the probability of keeping a node using dropout"
   ]
  },
  {
   "cell_type": "code",
   "execution_count": 260,
   "metadata": {
    "collapsed": true,
    "deletable": true,
    "editable": true
   },
   "outputs": [],
   "source": [
    "# TODO: Tune Parameters\n",
    "epochs = 20\n",
    "batch_size = 128\n",
    "keep_probability = 0.25"
   ]
  },
  {
   "cell_type": "markdown",
   "metadata": {
    "deletable": true,
    "editable": true
   },
   "source": [
    "### Train on a Single CIFAR-10 Batch\n",
    "Instead of training the neural network on all the CIFAR-10 batches of data, let's use a single batch. This should save time while you iterate on the model to get a better accuracy.  Once the final validation accuracy is 50% or greater, run the model on all the data in the next section."
   ]
  },
  {
   "cell_type": "code",
   "execution_count": 261,
   "metadata": {
    "collapsed": false,
    "deletable": true,
    "editable": true
   },
   "outputs": [
    {
     "name": "stdout",
     "output_type": "stream",
     "text": [
      "Checking the Training on a Single Batch...\n",
      "Epoch  1, CIFAR-10 Batch 1:  loss = 2.1731553077697754 & validation_accuracy = 0.23359999060630798\n",
      "Epoch  2, CIFAR-10 Batch 1:  loss = 1.9755916595458984 & validation_accuracy = 0.29999998211860657\n",
      "Epoch  3, CIFAR-10 Batch 1:  loss = 1.8037300109863281 & validation_accuracy = 0.36419999599456787\n",
      "Epoch  4, CIFAR-10 Batch 1:  loss = 1.698288917541504 & validation_accuracy = 0.4113999903202057\n",
      "Epoch  5, CIFAR-10 Batch 1:  loss = 1.6198627948760986 & validation_accuracy = 0.43139997124671936\n",
      "Epoch  6, CIFAR-10 Batch 1:  loss = 1.5016411542892456 & validation_accuracy = 0.4543999433517456\n",
      "Epoch  7, CIFAR-10 Batch 1:  loss = 1.366239070892334 & validation_accuracy = 0.4615999460220337\n",
      "Epoch  8, CIFAR-10 Batch 1:  loss = 1.2414250373840332 & validation_accuracy = 0.4731999933719635\n",
      "Epoch  9, CIFAR-10 Batch 1:  loss = 1.2138571739196777 & validation_accuracy = 0.4877999722957611\n",
      "Epoch 10, CIFAR-10 Batch 1:  loss = 1.130720615386963 & validation_accuracy = 0.4989999532699585\n",
      "Epoch 11, CIFAR-10 Batch 1:  loss = 0.9527429938316345 & validation_accuracy = 0.5195999145507812\n",
      "Epoch 12, CIFAR-10 Batch 1:  loss = 0.9377368688583374 & validation_accuracy = 0.5153999328613281\n",
      "Epoch 13, CIFAR-10 Batch 1:  loss = 0.9040093421936035 & validation_accuracy = 0.49619996547698975\n",
      "Epoch 14, CIFAR-10 Batch 1:  loss = 0.8660759925842285 & validation_accuracy = 0.486799955368042\n",
      "Epoch 15, CIFAR-10 Batch 1:  loss = 0.7525378465652466 & validation_accuracy = 0.49519994854927063\n",
      "Epoch 16, CIFAR-10 Batch 1:  loss = 0.7480450868606567 & validation_accuracy = 0.4941999018192291\n",
      "Epoch 17, CIFAR-10 Batch 1:  loss = 0.6350871324539185 & validation_accuracy = 0.531999945640564\n",
      "Epoch 18, CIFAR-10 Batch 1:  loss = 0.6609123349189758 & validation_accuracy = 0.5317999124526978\n",
      "Epoch 19, CIFAR-10 Batch 1:  loss = 0.6574729084968567 & validation_accuracy = 0.5231999754905701\n",
      "Epoch 20, CIFAR-10 Batch 1:  loss = 0.5142135620117188 & validation_accuracy = 0.5381999611854553\n"
     ]
    }
   ],
   "source": [
    "\"\"\"\n",
    "DON'T MODIFY ANYTHING IN THIS CELL\n",
    "\"\"\"\n",
    "print('Checking the Training on a Single Batch...')\n",
    "with tf.Session() as sess:\n",
    "    # Initializing the variables\n",
    "    sess.run(tf.global_variables_initializer())\n",
    "    \n",
    "    # Training cycle\n",
    "    for epoch in range(epochs):\n",
    "        batch_i = 1\n",
    "        for batch_features, batch_labels in helper.load_preprocess_training_batch(batch_i, batch_size):\n",
    "            train_neural_network(sess, optimizer, keep_probability, batch_features, batch_labels)\n",
    "        print('Epoch {:>2}, CIFAR-10 Batch {}:  '.format(epoch + 1, batch_i), end='')\n",
    "        print_stats(sess, batch_features, batch_labels, cost, accuracy)"
   ]
  },
  {
   "cell_type": "markdown",
   "metadata": {
    "deletable": true,
    "editable": true
   },
   "source": [
    "### Fully Train the Model\n",
    "Now that you got a good accuracy with a single CIFAR-10 batch, try it with all five batches."
   ]
  },
  {
   "cell_type": "code",
   "execution_count": 262,
   "metadata": {
    "collapsed": false,
    "deletable": true,
    "editable": true
   },
   "outputs": [
    {
     "name": "stdout",
     "output_type": "stream",
     "text": [
      "Training...\n",
      "Epoch  1, CIFAR-10 Batch 1:  loss = 2.1423239707946777 & validation_accuracy = 0.19759999215602875\n",
      "Epoch  1, CIFAR-10 Batch 2:  loss = 1.9037797451019287 & validation_accuracy = 0.30639997124671936\n",
      "Epoch  1, CIFAR-10 Batch 3:  loss = 1.5108815431594849 & validation_accuracy = 0.3693999648094177\n",
      "Epoch  1, CIFAR-10 Batch 4:  loss = 1.6596652269363403 & validation_accuracy = 0.39740002155303955\n",
      "Epoch  1, CIFAR-10 Batch 5:  loss = 1.4942467212677002 & validation_accuracy = 0.4261999726295471\n",
      "Epoch  2, CIFAR-10 Batch 1:  loss = 1.618274211883545 & validation_accuracy = 0.4559999704360962\n",
      "Epoch  2, CIFAR-10 Batch 2:  loss = 1.4855058193206787 & validation_accuracy = 0.4435999393463135\n",
      "Epoch  2, CIFAR-10 Batch 3:  loss = 1.2579162120819092 & validation_accuracy = 0.4813999533653259\n",
      "Epoch  2, CIFAR-10 Batch 4:  loss = 1.4481751918792725 & validation_accuracy = 0.49539995193481445\n",
      "Epoch  2, CIFAR-10 Batch 5:  loss = 1.2835791110992432 & validation_accuracy = 0.48319998383522034\n",
      "Epoch  3, CIFAR-10 Batch 1:  loss = 1.3062410354614258 & validation_accuracy = 0.5047999024391174\n",
      "Epoch  3, CIFAR-10 Batch 2:  loss = 1.367965579032898 & validation_accuracy = 0.4675999879837036\n",
      "Epoch  3, CIFAR-10 Batch 3:  loss = 0.979111909866333 & validation_accuracy = 0.5191999077796936\n",
      "Epoch  3, CIFAR-10 Batch 4:  loss = 1.2334703207015991 & validation_accuracy = 0.5339999794960022\n",
      "Epoch  3, CIFAR-10 Batch 5:  loss = 1.1689848899841309 & validation_accuracy = 0.5261999368667603\n",
      "Epoch  4, CIFAR-10 Batch 1:  loss = 1.0317654609680176 & validation_accuracy = 0.5529999732971191\n",
      "Epoch  4, CIFAR-10 Batch 2:  loss = 1.2917711734771729 & validation_accuracy = 0.504599928855896\n",
      "Epoch  4, CIFAR-10 Batch 3:  loss = 0.8381539583206177 & validation_accuracy = 0.543799877166748\n",
      "Epoch  4, CIFAR-10 Batch 4:  loss = 1.0935684442520142 & validation_accuracy = 0.5671999454498291\n",
      "Epoch  4, CIFAR-10 Batch 5:  loss = 1.029493808746338 & validation_accuracy = 0.579599916934967\n",
      "Epoch  5, CIFAR-10 Batch 1:  loss = 0.9242265224456787 & validation_accuracy = 0.5935999155044556\n",
      "Epoch  5, CIFAR-10 Batch 2:  loss = 1.0091983079910278 & validation_accuracy = 0.5745999813079834\n",
      "Epoch  5, CIFAR-10 Batch 3:  loss = 0.7391220927238464 & validation_accuracy = 0.5781999826431274\n",
      "Epoch  5, CIFAR-10 Batch 4:  loss = 0.9331401586532593 & validation_accuracy = 0.6009998917579651\n",
      "Epoch  5, CIFAR-10 Batch 5:  loss = 0.8906062841415405 & validation_accuracy = 0.602199912071228\n",
      "Epoch  6, CIFAR-10 Batch 1:  loss = 0.8811750411987305 & validation_accuracy = 0.6159998774528503\n",
      "Epoch  6, CIFAR-10 Batch 2:  loss = 0.8456293940544128 & validation_accuracy = 0.5915998816490173\n",
      "Epoch  6, CIFAR-10 Batch 3:  loss = 0.6889864802360535 & validation_accuracy = 0.591999888420105\n",
      "Epoch  6, CIFAR-10 Batch 4:  loss = 0.845091700553894 & validation_accuracy = 0.605199933052063\n",
      "Epoch  6, CIFAR-10 Batch 5:  loss = 0.7854526042938232 & validation_accuracy = 0.6145999431610107\n",
      "Epoch  7, CIFAR-10 Batch 1:  loss = 0.8436806201934814 & validation_accuracy = 0.6191998720169067\n",
      "Epoch  7, CIFAR-10 Batch 2:  loss = 0.7652307748794556 & validation_accuracy = 0.6223999261856079\n",
      "Epoch  7, CIFAR-10 Batch 3:  loss = 0.6313520669937134 & validation_accuracy = 0.6201999187469482\n",
      "Epoch  7, CIFAR-10 Batch 4:  loss = 0.8487741351127625 & validation_accuracy = 0.5969999432563782\n",
      "Epoch  7, CIFAR-10 Batch 5:  loss = 0.6941328048706055 & validation_accuracy = 0.6335998773574829\n",
      "Epoch  8, CIFAR-10 Batch 1:  loss = 0.828393816947937 & validation_accuracy = 0.6115999221801758\n",
      "Epoch  8, CIFAR-10 Batch 2:  loss = 0.7379561066627502 & validation_accuracy = 0.6309999227523804\n",
      "Epoch  8, CIFAR-10 Batch 3:  loss = 0.5717105269432068 & validation_accuracy = 0.6273999214172363\n",
      "Epoch  8, CIFAR-10 Batch 4:  loss = 0.7545529007911682 & validation_accuracy = 0.598599910736084\n",
      "Epoch  8, CIFAR-10 Batch 5:  loss = 0.5538371801376343 & validation_accuracy = 0.6399998664855957\n",
      "Epoch  9, CIFAR-10 Batch 1:  loss = 0.6865786910057068 & validation_accuracy = 0.634199857711792\n",
      "Epoch  9, CIFAR-10 Batch 2:  loss = 0.6170972585678101 & validation_accuracy = 0.6195999383926392\n",
      "Epoch  9, CIFAR-10 Batch 3:  loss = 0.47350946068763733 & validation_accuracy = 0.6453999280929565\n",
      "Epoch  9, CIFAR-10 Batch 4:  loss = 0.6795741319656372 & validation_accuracy = 0.6185998916625977\n",
      "Epoch  9, CIFAR-10 Batch 5:  loss = 0.48472291231155396 & validation_accuracy = 0.6367998719215393\n",
      "Epoch 10, CIFAR-10 Batch 1:  loss = 0.643057107925415 & validation_accuracy = 0.6395998597145081\n",
      "Epoch 10, CIFAR-10 Batch 2:  loss = 0.5261414051055908 & validation_accuracy = 0.6227999329566956\n",
      "Epoch 10, CIFAR-10 Batch 3:  loss = 0.41927462816238403 & validation_accuracy = 0.6483998894691467\n",
      "Epoch 10, CIFAR-10 Batch 4:  loss = 0.5101554989814758 & validation_accuracy = 0.6405999660491943\n",
      "Epoch 10, CIFAR-10 Batch 5:  loss = 0.47753778100013733 & validation_accuracy = 0.625999927520752\n",
      "Epoch 11, CIFAR-10 Batch 1:  loss = 0.5574321150779724 & validation_accuracy = 0.6303998827934265\n",
      "Epoch 11, CIFAR-10 Batch 2:  loss = 0.469407856464386 & validation_accuracy = 0.6481998562812805\n",
      "Epoch 11, CIFAR-10 Batch 3:  loss = 0.3997446894645691 & validation_accuracy = 0.6357998847961426\n",
      "Epoch 11, CIFAR-10 Batch 4:  loss = 0.4496425986289978 & validation_accuracy = 0.6539998650550842\n",
      "Epoch 11, CIFAR-10 Batch 5:  loss = 0.46428659558296204 & validation_accuracy = 0.6219999194145203\n",
      "Epoch 12, CIFAR-10 Batch 1:  loss = 0.48458412289619446 & validation_accuracy = 0.6409999132156372\n",
      "Epoch 12, CIFAR-10 Batch 2:  loss = 0.4724637567996979 & validation_accuracy = 0.6269999146461487\n",
      "Epoch 12, CIFAR-10 Batch 3:  loss = 0.35941460728645325 & validation_accuracy = 0.6381999254226685\n",
      "Epoch 12, CIFAR-10 Batch 4:  loss = 0.37758490443229675 & validation_accuracy = 0.6443998217582703\n",
      "Epoch 12, CIFAR-10 Batch 5:  loss = 0.3825668394565582 & validation_accuracy = 0.6467999219894409\n",
      "Epoch 13, CIFAR-10 Batch 1:  loss = 0.46536368131637573 & validation_accuracy = 0.6377999186515808\n",
      "Epoch 13, CIFAR-10 Batch 2:  loss = 0.4134175479412079 & validation_accuracy = 0.6429998874664307\n",
      "Epoch 13, CIFAR-10 Batch 3:  loss = 0.3017106056213379 & validation_accuracy = 0.6245998740196228\n",
      "Epoch 13, CIFAR-10 Batch 4:  loss = 0.2977692186832428 & validation_accuracy = 0.6417998671531677\n",
      "Epoch 13, CIFAR-10 Batch 5:  loss = 0.34808656573295593 & validation_accuracy = 0.6543998718261719\n",
      "Epoch 14, CIFAR-10 Batch 1:  loss = 0.47838836908340454 & validation_accuracy = 0.6365998983383179\n",
      "Epoch 14, CIFAR-10 Batch 2:  loss = 0.4596412181854248 & validation_accuracy = 0.632999837398529\n",
      "Epoch 14, CIFAR-10 Batch 3:  loss = 0.2669317126274109 & validation_accuracy = 0.6229998469352722\n",
      "Epoch 14, CIFAR-10 Batch 4:  loss = 0.3556928336620331 & validation_accuracy = 0.643799901008606\n",
      "Epoch 14, CIFAR-10 Batch 5:  loss = 0.2805846929550171 & validation_accuracy = 0.6475999355316162\n",
      "Epoch 15, CIFAR-10 Batch 1:  loss = 0.439475417137146 & validation_accuracy = 0.6425998210906982\n",
      "Epoch 15, CIFAR-10 Batch 2:  loss = 0.4102579951286316 & validation_accuracy = 0.6047999262809753\n",
      "Epoch 15, CIFAR-10 Batch 3:  loss = 0.2081265151500702 & validation_accuracy = 0.6313998699188232\n",
      "Epoch 15, CIFAR-10 Batch 4:  loss = 0.2527252435684204 & validation_accuracy = 0.6315999031066895\n",
      "Epoch 15, CIFAR-10 Batch 5:  loss = 0.21625331044197083 & validation_accuracy = 0.6369999051094055\n",
      "Epoch 16, CIFAR-10 Batch 1:  loss = 0.366327166557312 & validation_accuracy = 0.6409999132156372\n",
      "Epoch 16, CIFAR-10 Batch 2:  loss = 0.41966933012008667 & validation_accuracy = 0.5823999047279358\n",
      "Epoch 16, CIFAR-10 Batch 3:  loss = 0.2212197482585907 & validation_accuracy = 0.6505998969078064\n",
      "Epoch 16, CIFAR-10 Batch 4:  loss = 0.34318113327026367 & validation_accuracy = 0.6197999119758606\n",
      "Epoch 16, CIFAR-10 Batch 5:  loss = 0.1894461214542389 & validation_accuracy = 0.6333999037742615\n",
      "Epoch 17, CIFAR-10 Batch 1:  loss = 0.3891436457633972 & validation_accuracy = 0.6269999146461487\n",
      "Epoch 17, CIFAR-10 Batch 2:  loss = 0.2708889842033386 & validation_accuracy = 0.6377999186515808\n",
      "Epoch 17, CIFAR-10 Batch 3:  loss = 0.251434326171875 & validation_accuracy = 0.6419998407363892\n",
      "Epoch 17, CIFAR-10 Batch 4:  loss = 0.2046974003314972 & validation_accuracy = 0.6187998652458191\n",
      "Epoch 17, CIFAR-10 Batch 5:  loss = 0.2015366405248642 & validation_accuracy = 0.6321998834609985\n",
      "Epoch 18, CIFAR-10 Batch 1:  loss = 0.31756624579429626 & validation_accuracy = 0.6419998407363892\n",
      "Epoch 18, CIFAR-10 Batch 2:  loss = 0.28705835342407227 & validation_accuracy = 0.6111999154090881\n",
      "Epoch 18, CIFAR-10 Batch 3:  loss = 0.1996961236000061 & validation_accuracy = 0.6385998725891113\n",
      "Epoch 18, CIFAR-10 Batch 4:  loss = 0.19078512489795685 & validation_accuracy = 0.6397998929023743\n",
      "Epoch 18, CIFAR-10 Batch 5:  loss = 0.1598314493894577 & validation_accuracy = 0.6387998461723328\n",
      "Epoch 19, CIFAR-10 Batch 1:  loss = 0.23290294408798218 & validation_accuracy = 0.6457998752593994\n",
      "Epoch 19, CIFAR-10 Batch 2:  loss = 0.20250283181667328 & validation_accuracy = 0.6249999403953552\n",
      "Epoch 19, CIFAR-10 Batch 3:  loss = 0.15289169549942017 & validation_accuracy = 0.6573998928070068\n",
      "Epoch 19, CIFAR-10 Batch 4:  loss = 0.18072429299354553 & validation_accuracy = 0.6323999166488647\n",
      "Epoch 19, CIFAR-10 Batch 5:  loss = 0.10078907012939453 & validation_accuracy = 0.6387999057769775\n",
      "Epoch 20, CIFAR-10 Batch 1:  loss = 0.1887255311012268 & validation_accuracy = 0.6385999321937561\n",
      "Epoch 20, CIFAR-10 Batch 2:  loss = 0.1242174357175827 & validation_accuracy = 0.6367999315261841\n",
      "Epoch 20, CIFAR-10 Batch 3:  loss = 0.13938961923122406 & validation_accuracy = 0.646399974822998\n",
      "Epoch 20, CIFAR-10 Batch 4:  loss = 0.13406342267990112 & validation_accuracy = 0.6121999025344849\n",
      "Epoch 20, CIFAR-10 Batch 5:  loss = 0.11616673320531845 & validation_accuracy = 0.6185998916625977\n"
     ]
    }
   ],
   "source": [
    "\"\"\"\n",
    "DON'T MODIFY ANYTHING IN THIS CELL\n",
    "\"\"\"\n",
    "save_model_path = './image_classification'\n",
    "\n",
    "print('Training...')\n",
    "with tf.Session() as sess:\n",
    "    # Initializing the variables\n",
    "    sess.run(tf.global_variables_initializer())\n",
    "    \n",
    "    # Training cycle\n",
    "    for epoch in range(epochs):\n",
    "        # Loop over all batches\n",
    "        n_batches = 5\n",
    "        for batch_i in range(1, n_batches + 1):\n",
    "            for batch_features, batch_labels in helper.load_preprocess_training_batch(batch_i, batch_size):\n",
    "                train_neural_network(sess, optimizer, keep_probability, batch_features, batch_labels)\n",
    "            print('Epoch {:>2}, CIFAR-10 Batch {}:  '.format(epoch + 1, batch_i), end='')\n",
    "            print_stats(sess, batch_features, batch_labels, cost, accuracy)\n",
    "            \n",
    "    # Save Model\n",
    "    saver = tf.train.Saver()\n",
    "    save_path = saver.save(sess, save_model_path)"
   ]
  },
  {
   "cell_type": "markdown",
   "metadata": {
    "deletable": true,
    "editable": true
   },
   "source": [
    "# Checkpoint\n",
    "The model has been saved to disk.\n",
    "## Test Model\n",
    "Test your model against the test dataset.  This will be your final accuracy. You should have an accuracy greater than 50%. If you don't, keep tweaking the model architecture and parameters."
   ]
  },
  {
   "cell_type": "code",
   "execution_count": 263,
   "metadata": {
    "collapsed": false,
    "deletable": true,
    "editable": true
   },
   "outputs": [
    {
     "name": "stdout",
     "output_type": "stream",
     "text": [
      "Testing Accuracy: 0.6089794303797469\n",
      "\n"
     ]
    },
    {
     "data": {
      "image/png": "[encoded data removed]",
      "text/plain": [
       "<matplotlib.figure.Figure at 0x7f223b6ad278>"
      ]
     },
     "metadata": {
      "image/png": {
       "height": 319,
       "width": 355
      }
     },
     "output_type": "display_data"
    }
   ],
   "source": [
    "\"\"\"\n",
    "DON'T MODIFY ANYTHING IN THIS CELL\n",
    "\"\"\"\n",
    "%matplotlib inline\n",
    "%config InlineBackend.figure_format = 'retina'\n",
    "\n",
    "import tensorflow as tf\n",
    "import pickle\n",
    "import helper\n",
    "import random\n",
    "\n",
    "# Set batch size if not already set\n",
    "try:\n",
    "    if batch_size:\n",
    "        pass\n",
    "except NameError:\n",
    "    batch_size = 64\n",
    "\n",
    "save_model_path = './image_classification'\n",
    "n_samples = 4\n",
    "top_n_predictions = 3\n",
    "\n",
    "def test_model():\n",
    "    \"\"\"\n",
    "    Test the saved model against the test dataset\n",
    "    \"\"\"\n",
    "\n",
    "    test_features, test_labels = pickle.load(open('preprocess_training.p', mode='rb'))\n",
    "    loaded_graph = tf.Graph()\n",
    "\n",
    "    with tf.Session(graph=loaded_graph) as sess:\n",
    "        # Load model\n",
    "        loader = tf.train.import_meta_graph(save_model_path + '.meta')\n",
    "        loader.restore(sess, save_model_path)\n",
    "\n",
    "        # Get Tensors from loaded model\n",
    "        loaded_x = loaded_graph.get_tensor_by_name('x:0')\n",
    "        loaded_y = loaded_graph.get_tensor_by_name('y:0')\n",
    "        loaded_keep_prob = loaded_graph.get_tensor_by_name('keep_prob:0')\n",
    "        loaded_logits = loaded_graph.get_tensor_by_name('logits:0')\n",
    "        loaded_acc = loaded_graph.get_tensor_by_name('accuracy:0')\n",
    "        \n",
    "        # Get accuracy in batches for memory limitations\n",
    "        test_batch_acc_total = 0\n",
    "        test_batch_count = 0\n",
    "        \n",
    "        for train_feature_batch, train_label_batch in helper.batch_features_labels(test_features, test_labels, batch_size):\n",
    "            test_batch_acc_total += sess.run(\n",
    "                loaded_acc,\n",
    "                feed_dict={loaded_x: train_feature_batch, loaded_y: train_label_batch, loaded_keep_prob: 1.0})\n",
    "            test_batch_count += 1\n",
    "\n",
    "        print('Testing Accuracy: {}\\n'.format(test_batch_acc_total/test_batch_count))\n",
    "\n",
    "        # Print Random Samples\n",
    "        random_test_features, random_test_labels = tuple(zip(*random.sample(list(zip(test_features, test_labels)), n_samples)))\n",
    "        random_test_predictions = sess.run(\n",
    "            tf.nn.top_k(tf.nn.softmax(loaded_logits), top_n_predictions),\n",
    "            feed_dict={loaded_x: random_test_features, loaded_y: random_test_labels, loaded_keep_prob: 1.0})\n",
    "        helper.display_image_predictions(random_test_features, random_test_labels, random_test_predictions)\n",
    "\n",
    "\n",
    "test_model()"
   ]
  },
  {
   "cell_type": "markdown",
   "metadata": {
    "deletable": true,
    "editable": true
   },
   "source": [
    "## Why 50-80% Accuracy?\n",
    "You might be wondering why you can't get an accuracy any higher. First things first, 50% isn't bad for a simple CNN.  Pure guessing would get you 10% accuracy. However, you might notice people are getting scores [well above 80%](http://rodrigob.github.io/are_we_there_yet/build/classification_datasets_results.html#43494641522d3130).  That's because we haven't taught you all there is to know about neural networks. We still need to cover a few more techniques.\n",
    "## Submitting This Project\n",
    "When submitting this project, make sure to run all the cells before saving the notebook.  Save the notebook file as \"dlnd_image_classification.ipynb\" and save it as a HTML file under \"File\" -> \"Download as\".  Include the \"helper.py\" and \"problem_unittests.py\" files in your submission."
   ]
  }
 ],
 "metadata": {
  "kernelspec": {
   "display_name": "Python 3",
   "language": "python",
   "name": "python3"
  },
  "language_info": {
   "codemirror_mode": {
    "name": "ipython",
    "version": 3
   },
   "file_extension": ".py",
   "mimetype": "text/x-python",
   "name": "python",
   "nbconvert_exporter": "python",
   "pygments_lexer": "ipython3",
   "version": "3.5.2"
  },
  "widgets": {
   "state": {},
   "version": "1.1.2"
  }
 },
 "nbformat": 4,
 "nbformat_minor": 0
}
